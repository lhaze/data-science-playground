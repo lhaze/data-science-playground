{
 "cells": [
  {
   "cell_type": "markdown",
   "metadata": {},
   "source": [
    "## Intro"
   ]
  },
  {
   "cell_type": "markdown",
   "metadata": {},
   "source": [
    "# How many Restless are there in the Necropolis of Warsaw?\n",
    "## Part 1. Date of Death"
   ]
  },
  {
   "cell_type": "markdown",
   "metadata": {},
   "source": [
    "Actually, there are two questions:\n",
    "\n",
    "**AoD)** What is the **_age of death_** of how many wraiths across the population of Necropolis? AoD alters demeanor & nature of wraiths' psyche & shadow.\n",
    "\n",
    "**DoD)** What is the **_date of death_** of how many wraiths? DoD defines culture context of a character and certain aspects of his/her social position.\n",
    "\n",
    "Both questions share the same demographic model of getting to the Shadowlands, migrations & depopulation (Ascension/Oblivion/decorpsing) and differs only in entry data. In this part of the article, let's take **DoD** on the workshop and try to develop a prototypical model of it."
   ]
  },
  {
   "cell_type": "markdown",
   "metadata": {},
   "source": [
    "## Input data\n",
    "\n",
    "Sources:\n",
    "1. [Demography of Warsaw (Wikipedia)](\n",
    "https://pl.wikipedia.org/wiki/Ludno%C5%9B%C4%87_Warszawy) \n",
    "2. [Historical demography of Poland (academic pdf)](\n",
    "http://mbc.cyfrowemazowsze.pl/Content/18436/Historia%20Polski%20w%20Liczbach_1994%20198147.pdf)"
   ]
  },
  {
   "cell_type": "code",
   "execution_count": 3,
   "metadata": {
    "scrolled": true
   },
   "outputs": [
    {
     "name": "stdout",
     "output_type": "stream",
     "text": [
      "['', '/usr/lib/python35.zip', '/usr/lib/python3.5', '/usr/lib/python3.5/plat-x86_64-linux-gnu', '/usr/lib/python3.5/lib-dynload', '/home/lhaze/.virtualenvs/data-science-playground/lib/python3.5/site-packages', '/home/lhaze/.virtualenvs/data-science-playground/lib/python3.5/site-packages/pip-9.0.1-py3.5.egg', '/home/lhaze/.virtualenvs/data-science-playground/lib/python3.5/site-packages/IPython/extensions', '/home/lhaze/.ipython', '/home/lhaze/workspace/data-science-playground/src', '/home/lhaze/workspace/data-science-playground/src', '/home/lhaze/workspace/data-science-playground/src']\n",
      "481\n"
     ]
    }
   ],
   "source": [
    "from builtins import list, open, zip\n",
    "from pathlib import Path\n",
    "from pprint import pprint\n",
    "import sys\n",
    "\n",
    "src_path = (Path.cwd() / '..' / 'src').resolve()\n",
    "if src_path not in sys.path:\n",
    "    sys.path.append(str(src_path))\n",
    "\n",
    "import numpy as np\n",
    "from utils.timeline import Timeline\n",
    "\n",
    "\n",
    "timeline = Timeline.load('how_many_wraiths_timeline.yaml')\n",
    "START_YEAR = timeline.start\n",
    "END_YEAR = timeline.end\n",
    "\n",
    "year_list = list(range(START_YEAR, END_YEAR + 1))\n"
   ]
  },
  {
   "cell_type": "markdown",
   "metadata": {},
   "source": [
    "## Model"
   ]
  },
  {
   "cell_type": "code",
   "execution_count": 1,
   "metadata": {
    "collapsed": true
   },
   "outputs": [],
   "source": [
    "from builtins import int, range, sorted, sum\n",
    "from functools import lru_cache\n",
    "\n",
    "\n",
    "@lru_cache(maxsize=None)\n",
    "def population_per_dod(t, dod):\n",
    "    if t < START_YEAR:\n",
    "        return 0\n",
    "    if t == dod:\n",
    "        return int(natural_growth(t) * enfant_survavibility_factor(t))\n",
    "    return int(population_per_dod(t - 1, dod) * (1 - pass_away_factor(t) + migration_factor(t)))\n",
    "\n",
    "\n",
    "def pass_away_factor(t):\n",
    "    return 0\n",
    "\n",
    "\n",
    "def migration_factor(t):\n",
    "    return 0\n",
    "\n",
    "\n",
    "def population(t):\n",
    "    return sum(population_per_dod(t, dod) for dod in range(START_YEAR, t + 1))\n",
    "\n",
    "\n",
    "def natural_growth(t):\n",
    "    return int(alive_population(t) * mortality_rate(t) * wraith_turn_factor(t))\n",
    "\n",
    "\n",
    "def wraith_turn_factor(t):\n",
    "    return 0.8\n",
    "    \n",
    "\n",
    "def enfant_survavibility_factor(t):\n",
    "    rate = 1 - enfant_oblivion_rate(t) - enfant_decorpsing_rate(t)\n",
    "    return rate if rate > 0 else 0\n",
    "\n",
    "\n",
    "def enfant_oblivion_rate(t):\n",
    "    return 0.1\n",
    "\n",
    "\n",
    "def enfant_decorpsing_rate(t):\n",
    "    return 0.1\n",
    "\n",
    "\n",
    "def pass_away_rate(t):\n",
    "    rate = senior_oblivion_rate(t) + senior_ascension_rate(t) + senior_decorpsing_rate(t)\n",
    "    return rate if rate < 1 else 1\n",
    "\n",
    "\n",
    "def senior_oblivion_rate(t):\n",
    "    return 0.02\n",
    "\n",
    "\n",
    "def senior_ascension_rate(t):\n",
    "    return 0.01\n",
    "\n",
    "\n",
    "def senior_decorpsing_rate(t):\n",
    "    return 0.01"
   ]
  },
  {
   "cell_type": "markdown",
   "metadata": {
    "collapsed": true
   },
   "source": [
    "## Visualization"
   ]
  },
  {
   "cell_type": "code",
   "execution_count": 2,
   "metadata": {
    "collapsed": true
   },
   "outputs": [
    {
     "ename": "NameError",
     "evalue": "name 'year_range' is not defined",
     "output_type": "error",
     "traceback": [
      "\u001b[1;31m---------------------------------------------------------------------------\u001b[0m",
      "\u001b[1;31mNameError\u001b[0m                                 Traceback (most recent call last)",
      "\u001b[1;32m<ipython-input-2-df9d62bbf2e4>\u001b[0m in \u001b[0;36m<module>\u001b[1;34m()\u001b[0m\n\u001b[0;32m      2\u001b[0m \u001b[1;32mimport\u001b[0m \u001b[0mnumpy\u001b[0m \u001b[1;32mas\u001b[0m \u001b[0mnp\u001b[0m\u001b[1;33m\u001b[0m\u001b[0m\n\u001b[0;32m      3\u001b[0m \u001b[1;33m\u001b[0m\u001b[0m\n\u001b[1;32m----> 4\u001b[1;33m \u001b[0mpopulation_full_values\u001b[0m \u001b[1;33m=\u001b[0m \u001b[1;33m{\u001b[0m\u001b[1;33m(\u001b[0m\u001b[0mt\u001b[0m\u001b[1;33m,\u001b[0m \u001b[0mdod\u001b[0m\u001b[1;33m)\u001b[0m\u001b[1;33m:\u001b[0m \u001b[0mpopulation_per_dod\u001b[0m\u001b[1;33m(\u001b[0m\u001b[0mt\u001b[0m\u001b[1;33m,\u001b[0m \u001b[0mdod\u001b[0m\u001b[1;33m)\u001b[0m \u001b[1;32mfor\u001b[0m \u001b[0mt\u001b[0m \u001b[1;32min\u001b[0m \u001b[0myear_range\u001b[0m\u001b[1;33m(\u001b[0m\u001b[1;33m)\u001b[0m \u001b[1;32mfor\u001b[0m \u001b[0mdod\u001b[0m \u001b[1;32min\u001b[0m \u001b[0myear_range\u001b[0m\u001b[1;33m(\u001b[0m\u001b[0mt\u001b[0m\u001b[1;33m)\u001b[0m\u001b[1;33m}\u001b[0m\u001b[1;33m\u001b[0m\u001b[0m\n\u001b[0m\u001b[0;32m      5\u001b[0m \u001b[0mpopulation_datapoints\u001b[0m \u001b[1;33m=\u001b[0m \u001b[1;33m(\u001b[0m\u001b[0mlist\u001b[0m\u001b[1;33m(\u001b[0m\u001b[0myear_range\u001b[0m\u001b[1;33m(\u001b[0m\u001b[1;33m)\u001b[0m\u001b[1;33m)\u001b[0m\u001b[1;33m,\u001b[0m \u001b[0mlist\u001b[0m\u001b[1;33m(\u001b[0m\u001b[0mpopulation_per_dod\u001b[0m\u001b[1;33m(\u001b[0m\u001b[0mEND_YEAR\u001b[0m\u001b[1;33m,\u001b[0m \u001b[0mdod\u001b[0m\u001b[1;33m)\u001b[0m \u001b[1;32mfor\u001b[0m \u001b[0mdod\u001b[0m \u001b[1;32min\u001b[0m \u001b[0myear_range\u001b[0m\u001b[1;33m(\u001b[0m\u001b[1;33m)\u001b[0m\u001b[1;33m)\u001b[0m\u001b[1;33m)\u001b[0m\u001b[1;33m\u001b[0m\u001b[0m\n\u001b[0;32m      6\u001b[0m \u001b[1;33m\u001b[0m\u001b[0m\n",
      "\u001b[1;31mNameError\u001b[0m: name 'year_range' is not defined"
     ]
    }
   ],
   "source": [
    "import matplotlib.pyplot as plt\n",
    "import numpy as np\n",
    "\n",
    "population_full_values = {(t, dod): population_per_dod(t, dod) for t in year_range() for dod in year_range(t)}\n",
    "population_datapoints = (list(year_range()), list(population_per_dod(END_YEAR, dod) for dod in year_range()))\n",
    "\n",
    "plt.plot(*alive_population_datapoints, 'r-', *population_datapoints, 'b-')\n",
    "plt.show()"
   ]
  },
  {
   "cell_type": "code",
   "execution_count": null,
   "metadata": {},
   "outputs": [],
   "source": []
  }
 ],
 "metadata": {
  "kernelspec": {
   "display_name": "Python 3",
   "language": "python",
   "name": "python3"
  },
  "language_info": {
   "codemirror_mode": {
    "name": "ipython",
    "version": 3
   },
   "file_extension": ".py",
   "mimetype": "text/x-python",
   "name": "python",
   "nbconvert_exporter": "python",
   "pygments_lexer": "ipython3",
   "version": "3.5.2"
  }
 },
 "nbformat": 4,
 "nbformat_minor": 1
}
