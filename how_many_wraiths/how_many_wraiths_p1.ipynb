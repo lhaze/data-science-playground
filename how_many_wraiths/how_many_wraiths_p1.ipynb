{
 "cells": [
  {
   "cell_type": "markdown",
   "metadata": {},
   "source": [
    "# How many wraiths are there in the Necropolis of Warsaw?\n",
    "## Part 1. Date of Death"
   ]
  },
  {
   "cell_type": "markdown",
   "metadata": {},
   "source": [
    "### Setup\n",
    "\n",
    "Locate the `src` directory and attach it to `sys.path`."
   ]
  },
  {
   "cell_type": "code",
   "execution_count": 10,
   "metadata": {},
   "outputs": [],
   "source": [
    "from pathlib import Path\n",
    "import sys\n",
    "\n",
    "\n",
    "def project_path_iter():\n",
    "    for p in Path.cwd().parts:\n",
    "        if p == PROJECT_NAME:\n",
    "            yield p\n",
    "            return\n",
    "        yield p\n",
    "\n",
    "\n",
    "REPO_NAME = 'data-science-playground'\n",
    "REPO_PATH = Path(*project_path_iter())\n",
    "SRC_PATH = REPO_PATH / 'src'\n",
    "PROJECT_PATH = REPO_PATH / 'how_many_wraiths'\n",
    "\n",
    "if SRC_PATH not in sys.path:\n",
    "    sys.path.append(str(SRC_PATH))"
   ]
  },
  {
   "cell_type": "markdown",
   "metadata": {},
   "source": [
    "## Input data\n",
    "\n",
    "Sources:\n",
    "1. [Demography of Warsaw (Wikipedia; in Polish)](\n",
    "https://pl.wikipedia.org/wiki/Ludno%C5%9B%C4%87_Warszawy) \n",
    "2. [Historical demography of Poland (academic pdf; in Polish)](\n",
    "http://mbc.cyfrowemazowsze.pl/Content/18436/Historia%20Polski%20w%20Liczbach_1994%20198147.pdf)"
   ]
  },
  {
   "cell_type": "code",
   "execution_count": 11,
   "metadata": {
    "scrolled": true
   },
   "outputs": [],
   "source": [
    "from utils.timeline import Timeline\n",
    "from utils.interpolations import build_timeline_interpolation\n",
    "\n",
    "\n",
    "tl = Timeline.load(str(PROJECT_PATH / 'how_many_wraiths_timeline.yaml'))\n",
    "START_YEAR = tl.start\n",
    "END_YEAR = tl.end\n",
    "\n",
    "year_list = list(range(START_YEAR, END_YEAR + 1))\n",
    "\n",
    "alive_population = build_timeline_interpolation(tl, 'alive')\n",
    "mortality_rate = build_timeline_interpolation(tl, 'mortality_rate')\n",
    "enfant_oblivion_rate = build_timeline_interpolation(tl, 'enfant_oblivion_rate')\n",
    "senior_oblivion_rate = build_timeline_interpolation(tl, 'senior_oblivion_rate')\n",
    "additional_deaths = tl.property('additional_deaths')"
   ]
  },
  {
   "cell_type": "markdown",
   "metadata": {},
   "source": [
    "## Model"
   ]
  },
  {
   "cell_type": "code",
   "execution_count": 12,
   "metadata": {},
   "outputs": [],
   "source": [
    "def population_per_dod(t, dod):\n",
    "    if t < START_YEAR:\n",
    "        return 0\n",
    "    if t == dod:\n",
    "        return int(natural_growth(t) * enfant_survavibility_factor(t))\n",
    "    return int(population_per_dod(t - 1, dod) * (1 - pass_away_factor(t) + migration_factor(t)))\n",
    "\n",
    "\n",
    "def pass_away_factor(t):\n",
    "    return 0\n",
    "\n",
    "\n",
    "def migration_factor(t):\n",
    "    return 0\n",
    "\n",
    "\n",
    "def population(t):\n",
    "    return sum(population_per_dod(t, dod) for dod in range(START_YEAR, t + 1))\n",
    "\n",
    "\n",
    "def natural_growth(t):\n",
    "    return int(alive_population(t) * mortality_rate(t) * wraith_turn_factor(t))\n",
    "\n",
    "\n",
    "def wraith_turn_factor(t):\n",
    "    return 0.8\n",
    "    \n",
    "\n",
    "def enfant_survavibility_factor(t):\n",
    "    rate = 1 - enfant_oblivion_rate(t) - enfant_decorpsing_rate(t)\n",
    "    return rate if rate > 0 else 0\n",
    "\n",
    "\n",
    "def enfant_oblivion_rate(t):\n",
    "    return 0.1\n",
    "\n",
    "\n",
    "def enfant_decorpsing_rate(t):\n",
    "    return 0.1\n",
    "\n",
    "\n",
    "def pass_away_rate(t):\n",
    "    rate = senior_oblivion_rate(t) + senior_ascension_rate(t) + senior_decorpsing_rate(t)\n",
    "    return rate if rate < 1 else 1\n",
    "\n",
    "\n",
    "def senior_oblivion_rate(t):\n",
    "    return 0.02\n",
    "\n",
    "\n",
    "def senior_ascension_rate(t):\n",
    "    return 0.01\n",
    "\n",
    "\n",
    "def senior_decorpsing_rate(t):\n",
    "    return 0.01"
   ]
  },
  {
   "cell_type": "markdown",
   "metadata": {
    "collapsed": true
   },
   "source": [
    "## Visualization"
   ]
  },
  {
   "cell_type": "code",
   "execution_count": 13,
   "metadata": {},
   "outputs": [
    {
     "data": {
      "image/png": "[encoded data removed]",
      "text/plain": [
       "<matplotlib.figure.Figure at 0x7f24c4196a20>"
      ]
     },
     "metadata": {},
     "output_type": "display_data"
    }
   ],
   "source": [
    "import matplotlib.pyplot as plt\n",
    "\n",
    "alive_population_values = list(alive_population(year_list))\n",
    "\n",
    "# population_full_values = {(t, dod): population_per_dod(t, dod) for t in year_list for dod in year_list}\n",
    "# population_datapoints = (year_list, list(population_per_dod(END_YEAR, dod) for dod in year_list))\n",
    "\n",
    "plt.plot(year_list, alive_population_values, 'r-')  #, *population_datapoints, 'b-')\n",
    "plt.show()"
   ]
  },
  {
   "cell_type": "code",
   "execution_count": null,
   "metadata": {},
   "outputs": [],
   "source": []
  }
 ],
 "metadata": {
  "kernelspec": {
   "display_name": "Python 3",
   "language": "python",
   "name": "python3"
  },
  "language_info": {
   "codemirror_mode": {
    "name": "ipython",
    "version": 3
   },
   "file_extension": ".py",
   "mimetype": "text/x-python",
   "name": "python",
   "nbconvert_exporter": "python",
   "pygments_lexer": "ipython3",
   "version": "3.5.2"
  }
 },
 "nbformat": 4,
 "nbformat_minor": 1
}
