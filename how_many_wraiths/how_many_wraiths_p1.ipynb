{
 "cells": [
  {
   "cell_type": "markdown",
   "metadata": {},
   "source": [
    "# How many wraiths are there in the Necropolis of Warsaw?\n",
    "## Part 1. Date of Death"
   ]
  },
  {
   "cell_type": "markdown",
   "metadata": {},
   "source": [
    "## Input data\n",
    "\n",
    "Sources:\n",
    "1. [Demography of Warsaw (Wikipedia; in Polish)](\n",
    "https://pl.wikipedia.org/wiki/Ludno%C5%9B%C4%87_Warszawy) \n",
    "2. [Historical demography of Poland (academic pdf; in Polish)](\n",
    "http://mbc.cyfrowemazowsze.pl/Content/18436/Historia%20Polski%20w%20Liczbach_1994%20198147.pdf)"
   ]
  },
  {
   "cell_type": "code",
   "execution_count": 5,
   "metadata": {
    "scrolled": true
   },
   "outputs": [],
   "source": [
    "from builtins import list\n",
    "from pathlib import Path\n",
    "from pprint import pprint\n",
    "import sys\n",
    "\n",
    "src_path = (Path.cwd() / '..' / 'src').resolve()\n",
    "if src_path not in sys.path:\n",
    "    sys.path.append(str(src_path))\n",
    "\n",
    "from utils.timeline import Timeline\n",
    "\n",
    "\n",
    "timeline = Timeline.load('how_many_wraiths_timeline.yaml')\n",
    "START_YEAR = timeline.start\n",
    "END_YEAR = timeline.end\n",
    "\n",
    "year_list = list(range(START_YEAR, END_YEAR + 1))"
   ]
  },
  {
   "cell_type": "markdown",
   "metadata": {},
   "source": [
    "## Model"
   ]
  },
  {
   "cell_type": "code",
   "execution_count": 1,
   "metadata": {
    "collapsed": true
   },
   "outputs": [],
   "source": [
    "from builtins import int, range, sorted, sum\n",
    "from functools import lru_cache\n",
    "\n",
    "\n",
    "@lru_cache(maxsize=None)\n",
    "def population_per_dod(t, dod):\n",
    "    if t < START_YEAR:\n",
    "        return 0\n",
    "    if t == dod:\n",
    "        return int(natural_growth(t) * enfant_survavibility_factor(t))\n",
    "    return int(population_per_dod(t - 1, dod) * (1 - pass_away_factor(t) + migration_factor(t)))\n",
    "\n",
    "\n",
    "def pass_away_factor(t):\n",
    "    return 0\n",
    "\n",
    "\n",
    "def migration_factor(t):\n",
    "    return 0\n",
    "\n",
    "\n",
    "def population(t):\n",
    "    return sum(population_per_dod(t, dod) for dod in range(START_YEAR, t + 1))\n",
    "\n",
    "\n",
    "def natural_growth(t):\n",
    "    return int(alive_population(t) * mortality_rate(t) * wraith_turn_factor(t))\n",
    "\n",
    "\n",
    "def wraith_turn_factor(t):\n",
    "    return 0.8\n",
    "    \n",
    "\n",
    "def enfant_survavibility_factor(t):\n",
    "    rate = 1 - enfant_oblivion_rate(t) - enfant_decorpsing_rate(t)\n",
    "    return rate if rate > 0 else 0\n",
    "\n",
    "\n",
    "def enfant_oblivion_rate(t):\n",
    "    return 0.1\n",
    "\n",
    "\n",
    "def enfant_decorpsing_rate(t):\n",
    "    return 0.1\n",
    "\n",
    "\n",
    "def pass_away_rate(t):\n",
    "    rate = senior_oblivion_rate(t) + senior_ascension_rate(t) + senior_decorpsing_rate(t)\n",
    "    return rate if rate < 1 else 1\n",
    "\n",
    "\n",
    "def senior_oblivion_rate(t):\n",
    "    return 0.02\n",
    "\n",
    "\n",
    "def senior_ascension_rate(t):\n",
    "    return 0.01\n",
    "\n",
    "\n",
    "def senior_decorpsing_rate(t):\n",
    "    return 0.01"
   ]
  },
  {
   "cell_type": "markdown",
   "metadata": {
    "collapsed": true
   },
   "source": [
    "## Visualization"
   ]
  },
  {
   "cell_type": "code",
   "execution_count": 2,
   "metadata": {
    "collapsed": false
   },
   "outputs": [
    {
     "ename": "NameError",
     "evalue": "name 'year_range' is not defined",
     "traceback": [
      "\u001b[1;31m---------------------------------------------------------------------------\u001b[0m",
      "\u001b[1;31mNameError\u001b[0m                                 Traceback (most recent call last)",
      "\u001b[1;32m<ipython-input-2-df9d62bbf2e4>\u001b[0m in \u001b[0;36m<module>\u001b[1;34m()\u001b[0m\n\u001b[0;32m      2\u001b[0m \u001b[1;32mimport\u001b[0m \u001b[0mnumpy\u001b[0m \u001b[1;32mas\u001b[0m \u001b[0mnp\u001b[0m\u001b[1;33m\u001b[0m\u001b[0m\n\u001b[0;32m      3\u001b[0m \u001b[1;33m\u001b[0m\u001b[0m\n\u001b[1;32m----> 4\u001b[1;33m \u001b[0mpopulation_full_values\u001b[0m \u001b[1;33m=\u001b[0m \u001b[1;33m{\u001b[0m\u001b[1;33m(\u001b[0m\u001b[0mt\u001b[0m\u001b[1;33m,\u001b[0m \u001b[0mdod\u001b[0m\u001b[1;33m)\u001b[0m\u001b[1;33m:\u001b[0m \u001b[0mpopulation_per_dod\u001b[0m\u001b[1;33m(\u001b[0m\u001b[0mt\u001b[0m\u001b[1;33m,\u001b[0m \u001b[0mdod\u001b[0m\u001b[1;33m)\u001b[0m \u001b[1;32mfor\u001b[0m \u001b[0mt\u001b[0m \u001b[1;32min\u001b[0m \u001b[0myear_range\u001b[0m\u001b[1;33m(\u001b[0m\u001b[1;33m)\u001b[0m \u001b[1;32mfor\u001b[0m \u001b[0mdod\u001b[0m \u001b[1;32min\u001b[0m \u001b[0myear_range\u001b[0m\u001b[1;33m(\u001b[0m\u001b[0mt\u001b[0m\u001b[1;33m)\u001b[0m\u001b[1;33m}\u001b[0m\u001b[1;33m\u001b[0m\u001b[0m\n\u001b[0m\u001b[0;32m      5\u001b[0m \u001b[0mpopulation_datapoints\u001b[0m \u001b[1;33m=\u001b[0m \u001b[1;33m(\u001b[0m\u001b[0mlist\u001b[0m\u001b[1;33m(\u001b[0m\u001b[0myear_range\u001b[0m\u001b[1;33m(\u001b[0m\u001b[1;33m)\u001b[0m\u001b[1;33m)\u001b[0m\u001b[1;33m,\u001b[0m \u001b[0mlist\u001b[0m\u001b[1;33m(\u001b[0m\u001b[0mpopulation_per_dod\u001b[0m\u001b[1;33m(\u001b[0m\u001b[0mEND_YEAR\u001b[0m\u001b[1;33m,\u001b[0m \u001b[0mdod\u001b[0m\u001b[1;33m)\u001b[0m \u001b[1;32mfor\u001b[0m \u001b[0mdod\u001b[0m \u001b[1;32min\u001b[0m \u001b[0myear_range\u001b[0m\u001b[1;33m(\u001b[0m\u001b[1;33m)\u001b[0m\u001b[1;33m)\u001b[0m\u001b[1;33m)\u001b[0m\u001b[1;33m\u001b[0m\u001b[0m\n\u001b[0;32m      6\u001b[0m \u001b[1;33m\u001b[0m\u001b[0m\n",
      "\u001b[1;31mNameError\u001b[0m: name 'year_range' is not defined"
     ],
     "output_type": "error"
    }
   ],
   "source": [
    "import matplotlib.pyplot as plt\n",
    "import numpy as np\n",
    "\n",
    "population_full_values = {(t, dod): population_per_dod(t, dod) for t in year_list for dod in year_list}\n",
    "population_datapoints = (year_list, list(population_per_dod(END_YEAR, dod) for dod in year_list))\n",
    "\n",
    "plt.plot(*alive_population_datapoints, 'r-', *population_datapoints, 'b-')\n",
    "plt.show()"
   ]
  },
  {
   "cell_type": "code",
   "execution_count": null,
   "metadata": {},
   "outputs": [],
   "source": [
    ""
   ]
  }
 ],
 "metadata": {
  "kernelspec": {
   "display_name": "Python 3",
   "language": "python",
   "name": "python3"
  },
  "language_info": {
   "codemirror_mode": {
    "name": "ipython",
    "version": 3.0
   },
   "file_extension": ".py",
   "mimetype": "text/x-python",
   "name": "python",
   "nbconvert_exporter": "python",
   "pygments_lexer": "ipython3",
   "version": "3.5.2"
  }
 },
 "nbformat": 4,
 "nbformat_minor": 0
}